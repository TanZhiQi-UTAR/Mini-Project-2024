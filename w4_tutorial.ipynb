{
 "cells": [
  {
   "cell_type": "markdown",
   "id": "f2c00aa5-19d1-4ab3-8ca1-02f3ba5eb324",
   "metadata": {},
   "source": [
    "# Tutorial week 4 \n",
    "\n",
    "# Learning outcomes\n",
    "1. Gentle introduction to what is computer vision\n",
    "2. Review: Important concepts of image stored as Numpy array\n",
    "3. Image cropping\n",
    "4. Different types of color models: HSV, RGB and CIELAB\n",
    "    * Split and merge image channels\n",
    "    * Manipulate the image channels\n",
    "5. Point operators."
   ]
  },
  {
   "cell_type": "markdown",
   "id": "caba8fd3-83ac-4a95-884e-aad7c124791d",
   "metadata": {},
   "source": [
    "# What is digital image processing / computer vision?\n",
    "\n",
    "As humans, we perceive the 3D structure of the world around us with ease. For example, looking at a framed group portrait, you can easily count and name all the people in the picture and even guess at their emotions from their facial expressions.\n",
    "\n",
    "Perceptual psychologists have spent decades trying to comprehend how visual system works and optical illusions have been discovered to solve the puzzle, a complete solution is still far beyond our reach. \n",
    "\n",
    "Computer vision / digital image processing is being utilized in diverse of real world applications:\n",
    "- Optical character recognition (OCR): reading handwritten postal codes on letters and automatic plate recognition.\n",
    "\n",
    "  ![OCR](https://upload.wikimedia.org/wikipedia/commons/thumb/8/81/Portable_scanner_and_OCR_%28video%29.webm/1200px--Portable_scanner_and_OCR_%28video%29.webm.jpg \"Optical character recognition\")\n",
    "- Medical imaging: registering pre-operative and intra-operative imagery or performing long term studies of internal organ.\n",
    "\n",
    "  ![CT scan](https://encrypted-tbn0.gstatic.com/images?q=tbn:ANd9GcRta2V0mlQ-4oVHOUfyhRGpyPm64T4smphtzg&s \"CT scans\")\n",
    "- Self-driving vehicles.\n",
    "\n",
    "  ![Autonomous driving](https://encrypted-tbn0.gstatic.com/images?q=tbn:ANd9GcQdDERoAxq7k7ujdso6ghyI2hm6yn2cK9pJAQ&s \"autonomous vehicle\")\n",
    "- Surveillance: monitoring for intruders, analyzing highway traffic and monitoring pools for drowning victims.\n",
    "\n",
    "  ![surveillance](https://encrypted-tbn0.gstatic.com/images?q=tbn:ANd9GcSP9mr_ytNAapxlWafQLG5AcZZKVZ2wgPheFQ&s \"surveillance system\")\n",
    "- Fingerprint recognition and biometrics: automatic access authentication as well as forensic applications.\n",
    "\n",
    "  ![biometrics](https://www.nec.co.nz/wp-content/uploads/2018/02/Close-up-of-womans-left-eye-showing-iris-recogntion-points-market.jpg \"iris recognition\")"
   ]
  },
  {
   "cell_type": "code",
   "execution_count": 2,
   "id": "d851518f",
   "metadata": {},
   "outputs": [],
   "source": [
    "import sys\n",
    "# Python 3.8 is required\n",
    "assert sys.version_info >= (3, 8)"
   ]
  },
  {
   "cell_type": "code",
   "execution_count": 3,
   "id": "f207d3b2",
   "metadata": {},
   "outputs": [],
   "source": [
    "import cv2 as cv\n",
    "import numpy as np\n",
    "import matplotlib.pyplot as plt"
   ]
  },
  {
   "cell_type": "markdown",
   "id": "157ea280-c656-4771-9f55-c84757ba5b82",
   "metadata": {},
   "source": [
    "# Setup"
   ]
  },
  {
   "cell_type": "code",
   "execution_count": 5,
   "id": "06b14005-c4bd-43e6-b3b1-129b888bed35",
   "metadata": {},
   "outputs": [
    {
     "data": {
      "text/plain": [
       "True"
      ]
     },
     "execution_count": 5,
     "metadata": {},
     "output_type": "execute_result"
    }
   ],
   "source": [
    "from utils import display_images\n",
    "\n",
    "# Make sure that optimization is enabled\n",
    "if not cv.useOptimized():\n",
    "    cv.setUseOptimized(True)\n",
    "    \n",
    "cv.useOptimized()"
   ]
  },
  {
   "cell_type": "markdown",
   "id": "90fa2bd5-33d5-4aa5-9867-071f5abdc953",
   "metadata": {},
   "source": [
    "# Review: Representation of image as Numpy array\n",
    "An image is a multidimensional array; it has columns and rows of pixels, and each pixel has a value. For different kinds of image data, the pixel value may be formatted in different ways. We can create a $4\\times 4$ square black image from scratch by simply creating a 2D NumPy array as shown in the following cells."
   ]
  },
  {
   "cell_type": "code",
   "execution_count": 4,
   "id": "3cabebae",
   "metadata": {},
   "outputs": [
    {
     "data": {
      "image/png": "[encoded data removed]",
      "text/plain": [
       "<Figure size 640x480 with 1 Axes>"
      ]
     },
     "metadata": {},
     "output_type": "display_data"
    }
   ],
   "source": [
    "#create a custom array\n",
    "#grayscale (2D array)\n",
    "\n",
    "arr =  np.arange(0,256, dtype=np.uint8).reshape((16,16))\n",
    "\n",
    "plt.imshow(arr, cmap= \"gray\", vmin=0, vmax=255)\n",
    "plt.show()\n",
    "\n",
    "\n",
    "#small value dark, large integer dark"
   ]
  },
  {
   "cell_type": "code",
   "execution_count": 5,
   "id": "9fcc18c2",
   "metadata": {},
   "outputs": [
    {
     "data": {
      "image/png": "[encoded data removed]",
      "text/plain": [
       "<Figure size 640x480 with 1 Axes>"
      ]
     },
     "metadata": {},
     "output_type": "display_data"
    }
   ],
   "source": [
    "#change grayscale to RGB\n",
    "#matplotlib (3D)\n",
    "arr_3d = cv.cvtColor (arr,cv.COLOR_GRAY2BGR)\n",
    "\n",
    "plt.imshow(arr_3d)\n",
    "plt.show()\n",
    "#When cv.cvtColor is used to convert from grayscale to BGR, each pixel in the grayscale image is expanded to three channels (B, G, R) with the same value for each channel. \n",
    "#This effectively makes a grayscale image that can be interpreted as an RGB image, where all colors are shades of gray."
   ]
  },
  {
   "cell_type": "code",
   "execution_count": 6,
   "id": "bc130a12",
   "metadata": {},
   "outputs": [
    {
     "data": {
      "text/plain": [
       "34"
      ]
     },
     "execution_count": 6,
     "metadata": {},
     "output_type": "execute_result"
    }
   ],
   "source": [
    "#Indexing and slicing\n",
    "#to access in arrray\n",
    "arr[2,2]"
   ]
  },
  {
   "cell_type": "code",
   "execution_count": 7,
   "id": "8f73cee0",
   "metadata": {},
   "outputs": [
    {
     "data": {
      "text/plain": [
       "239"
      ]
     },
     "execution_count": 7,
     "metadata": {},
     "output_type": "execute_result"
    }
   ],
   "source": [
    "arr[14,15]"
   ]
  },
  {
   "cell_type": "code",
   "execution_count": 8,
   "id": "0a891306",
   "metadata": {},
   "outputs": [
    {
     "data": {
      "text/plain": [
       "239"
      ]
     },
     "execution_count": 8,
     "metadata": {},
     "output_type": "execute_result"
    }
   ],
   "source": [
    "arr[-2,-1]"
   ]
  },
  {
   "cell_type": "code",
   "execution_count": 9,
   "id": "996b83fa",
   "metadata": {},
   "outputs": [
    {
     "data": {
      "text/plain": [
       "array([[51, 52, 53],\n",
       "       [67, 68, 69],\n",
       "       [83, 84, 85]], dtype=uint8)"
      ]
     },
     "execution_count": 9,
     "metadata": {},
     "output_type": "execute_result"
    }
   ],
   "source": [
    "#Slicing\n",
    "arr[3:6, 3:6]"
   ]
  },
  {
   "cell_type": "code",
   "execution_count": 10,
   "id": "46498af3-72df-4eb9-bb84-c31c850c7b38",
   "metadata": {},
   "outputs": [
    {
     "name": "stdout",
     "output_type": "stream",
     "text": [
      "[[0 0 0 0]\n",
      " [0 0 0 0]\n",
      " [0 0 0 0]\n",
      " [0 0 0 0]]\n"
     ]
    }
   ],
   "source": [
    "img = np.zeros((4, 4), dtype = np.uint8)\n",
    "print(img)"
   ]
  },
  {
   "cell_type": "markdown",
   "id": "4659d1a7-089d-48e8-b863-e3af23c48d01",
   "metadata": {},
   "source": [
    "Here, each pixel is represented by a single 8-bit integer, which means that the values of each pixel are in 0-255 range, where 0 is black, 255 is white and the in-between values are shades of gray. This is a **grayscale** image. You can use `cv.cvtColor()` to convert the images from one color space to another. We will discuss about image color spaces later."
   ]
  },
  {
   "cell_type": "code",
   "execution_count": 11,
   "id": "b732522a-9e39-4117-a881-53d912566ada",
   "metadata": {},
   "outputs": [
    {
     "name": "stdout",
     "output_type": "stream",
     "text": [
      "[[[0 0 0]\n",
      "  [0 0 0]\n",
      "  [0 0 0]\n",
      "  [0 0 0]]\n",
      "\n",
      " [[0 0 0]\n",
      "  [0 0 0]\n",
      "  [0 0 0]\n",
      "  [0 0 0]]\n",
      "\n",
      " [[0 0 0]\n",
      "  [0 0 0]\n",
      "  [0 0 0]\n",
      "  [0 0 0]]\n",
      "\n",
      " [[0 0 0]\n",
      "  [0 0 0]\n",
      "  [0 0 0]\n",
      "  [0 0 0]]]\n"
     ]
    }
   ],
   "source": [
    "img_bgr = cv.cvtColor(img, cv.COLOR_GRAY2BGR)\n",
    "print(img_bgr)"
   ]
  },
  {
   "cell_type": "code",
   "execution_count": 12,
   "id": "861d4c4e-bae0-49be-8a54-626fdc705550",
   "metadata": {},
   "outputs": [
    {
     "name": "stdout",
     "output_type": "stream",
     "text": [
      "(4, 4, 3)\n"
     ]
    }
   ],
   "source": [
    "print(img_bgr.shape)"
   ]
  },
  {
   "cell_type": "markdown",
   "id": "eb35e707-c028-4d0b-8c48-0b0a56804e2d",
   "metadata": {},
   "source": [
    "**Exercise**\n",
    "---\n",
    "1. Create a $200 \\times 200$ white image and display it. \n",
    "2. Leverage your image processing skills to create a simple wallpaper design as shown in the following image:\n",
    "\n",
    "![pattern](img_embed/exercise_w4.jpg \"Pattern\")"
   ]
  },
  {
   "cell_type": "code",
   "execution_count": 13,
   "id": "76bb6b1b",
   "metadata": {},
   "outputs": [
    {
     "data": {
      "image/png": "[encoded data removed]",
      "text/plain": [
       "<Figure size 640x480 with 1 Axes>"
      ]
     },
     "metadata": {},
     "output_type": "display_data"
    }
   ],
   "source": [
    "#Q1\n",
    "arr =  np.full((200,200),255, dtype=np.uint8)\n",
    "\n",
    "plt.imshow(arr, cmap= \"gray\", vmin=0, vmax=255)\n",
    "plt.show()"
   ]
  },
  {
   "cell_type": "code",
   "execution_count": 14,
   "id": "ff7825b8",
   "metadata": {},
   "outputs": [
    {
     "data": {
      "image/png": "[encoded data removed]",
      "text/plain": [
       "<Figure size 640x480 with 1 Axes>"
      ]
     },
     "metadata": {},
     "output_type": "display_data"
    }
   ],
   "source": [
    "#Q2\n",
    "\n",
    "#create the first one unit\n",
    "#slicing is needed\n",
    "#create a patch with alternating black and white\n",
    "tile =  np.zeros((60,60),dtype=np.uint8)\n",
    "\n",
    "#slice subpatch to assing new values\n",
    "# create white regions in the tile\n",
    "tile[:20, 20:40] = 255 #[row, columns] #so first 20 rows (0 to 20) and columns from 20 to 39\n",
    "tile[20:40,:20]  = 255\n",
    "tile[20:40, 40:] = 255\n",
    "tile[40:,20:40]  = 255\n",
    "\n",
    "# replicate the tile to create a 3x3 tiled image\n",
    "img = np.tile(tile,(3,3))\n",
    "\n",
    "plt.imshow(img,cmap=\"gray\", vmin=0,  vmax=255)\n",
    "plt.axis(\"off\")\n",
    "plt.show()"
   ]
  },
  {
   "cell_type": "markdown",
   "id": "af748cd6",
   "metadata": {},
   "source": [
    "# 3 ways to extract regions from image\n",
    "1. use callback function (GUI)\n",
    "2. use 'cv.selectROI()\n",
    "3. use external software "
   ]
  },
  {
   "cell_type": "code",
   "execution_count": 6,
   "id": "ea7f2513",
   "metadata": {},
   "outputs": [],
   "source": [
    "# Load the image\n",
    "img = cv.imread(\"images/flower.jfif\")\n",
    "\n",
    "# Display the image\n",
    "from utils import display_images\n",
    "display_images([img], [\"image\"])\n"
   ]
  },
  {
   "cell_type": "code",
   "execution_count": 28,
   "id": "4f7f6ad9",
   "metadata": {},
   "outputs": [
    {
     "name": "stdout",
     "output_type": "stream",
     "text": [
      "83 , 35\n"
     ]
    }
   ],
   "source": [
    "# 1 way: GUI (callback)\n",
    "\n",
    "def mouse (event, x, y, flags, params):\n",
    "    if event == cv.EVENT_LBUTTONDOWN: #left mouse click\n",
    "        print(x, \",\" , y)\n",
    "        cv.imshow(\"image\", img)\n",
    "        \n",
    "cv.imshow(\"image\",img)\n",
    "cv.setMouseCallback(\"image\", mouse)\n",
    "cv.waitKey(0)\n",
    "cv.destroyAllWindows()"
   ]
  },
  {
   "cell_type": "code",
   "execution_count": 7,
   "id": "20a1e855",
   "metadata": {},
   "outputs": [],
   "source": [
    "#slicing in numpy start with y \n",
    "flower= img[36: 122, 90:175]\n",
    "display_images( flower,\"flower\")"
   ]
  },
  {
   "cell_type": "code",
   "execution_count": 19,
   "id": "97535fcc",
   "metadata": {},
   "outputs": [
    {
     "name": "stdout",
     "output_type": "stream",
     "text": [
      "(85, 34, 97, 93)\n"
     ]
    }
   ],
   "source": [
    "#2nd way:\n",
    "r =cv.selectROI(\"roi\", img)\n",
    "\n",
    "print(r)\n",
    "cv.destroyAllWindows()\n",
    "\n",
    "#the output is $(x,y,w,h)$,\n",
    "## x and y are the bounding point "
   ]
  },
  {
   "cell_type": "code",
   "execution_count": 30,
   "id": "18530e63",
   "metadata": {},
   "outputs": [],
   "source": [
    "#3rd way:\n",
    "x, y, w, h = r\n",
    "\n",
    "flower = img[y: y+h, x:x+w]\n",
    "display_images(flower,\"flower\")"
   ]
  },
  {
   "cell_type": "markdown",
   "id": "8ead7283-fed0-4e83-b4b4-8b580abb2e10",
   "metadata": {},
   "source": [
    "## Access elements in an array"
   ]
  },
  {
   "cell_type": "code",
   "execution_count": 31,
   "id": "e3f448bb-9739-404b-ba7e-976b538c3a55",
   "metadata": {},
   "outputs": [
    {
     "name": "stdout",
     "output_type": "stream",
     "text": [
      "84.8 ns ± 1.55 ns per loop (mean ± std. dev. of 7 runs, 10,000,000 loops each)\n",
      "86 ns ± 0.957 ns per loop (mean ± std. dev. of 7 runs, 10,000,000 loops each)\n"
     ]
    }
   ],
   "source": [
    "img = cv.imread('images/lena.jfif')\n",
    "\n",
    "%timeit a = img[100, 30, 0]\n",
    "%timeit b = img.item(100, 30, 0)"
   ]
  },
  {
   "cell_type": "markdown",
   "id": "5486084d-a7ef-498d-8317-4d980653d7f5",
   "metadata": {},
   "source": [
    "## Numpy array slicing\n",
    "### Exercise\n",
    "2. Extract the region of interest (flower) from the 'flower.jfif'."
   ]
  },
  {
   "cell_type": "markdown",
   "id": "1667dbc5-74ae-4618-9434-41a807ecda69",
   "metadata": {},
   "source": [
    "# Cropping an image\n",
    "Why crop an image? \n",
    "1. Remove all unwanted objects or areas from an image\n",
    "2. Improve the overall composition of the image. Visit this [link](https://expertphotography.com/improve-your-composition-the-rule-of-thirds/) on how separating image into grids and putting the subject of interest on the intersection point could create a more compositional pleasing photo. This is known as of rule of thirds.\n",
    "3. One of the image augmentation techniques in deep learning model training.\n",
    "\n",
    "The operations are literally the same as extracting ROI.\n",
    "\n",
    "## Divide an image into smaller patches using cropping\n",
    "One practical application of cropping in OpenCV is to divide an image into smaller patches. The following example shows how to split image into a $2 \\times 3$ grid."
   ]
  },
  {
   "cell_type": "code",
   "execution_count": 8,
   "id": "86e1e765",
   "metadata": {},
   "outputs": [],
   "source": [
    "img = cv.imread(\"images/dog.jfif\")\n",
    "img_copy = img.copy()\n",
    "height, width = img.shape[:2]\n",
    "\n",
    "# user defined parameters\n",
    "num_horizontal_patch = 2\n",
    "num_vertical_patch = 3\n",
    "\n",
    "# M and N\n",
    "M, N = width // num_horizontal_patch ,height // num_vertical_patch\n",
    "\n",
    "for y in range(0, height, N):\n",
    "   for x in range(0, width,M):\n",
    "        x1 = x + M\n",
    "        y1 = y + N\n",
    "        \n",
    "        if x1>=width and y1>= height:\n",
    "            x1 =  width - 1\n",
    "            y1 = height - 1\n",
    "            cv.rectangle(img_copy, (x,y), (x1,y1), (0,255,0),1)\n",
    "        elif x1>=width:\n",
    "            x1 = width - 1\n",
    "            cv.rectangle(img_copy, (x,y), (x1,y1), (0,255,0),1)\n",
    "        elif y1>=height: \n",
    "            y1 = height - 1\n",
    "            cv.rectangle(img_copy, (x,y), (x1,y1), (0,255,0),1)\n",
    "        else:\n",
    "            cv.rectangle(img_copy, (x, y), (x1, y1), (0, 255, 0), 1)\n",
    "            \n",
    "cv.imshow('patched image', img_copy)\n",
    "cv.waitKey(0)\n",
    "cv.destroyAllWindows()"
   ]
  },
  {
   "cell_type": "code",
   "execution_count": 78,
   "id": "6415b308-8cff-4444-884c-c304e90d075a",
   "metadata": {},
   "outputs": [],
   "source": [
    "img = cv.imread('images/dog.jfif')\n",
    "img_copy = img.copy()\n",
    "\n",
    "height, width = img.shape[:2]\n",
    "num_vertical_patches = 2\n",
    "num_horizontal_patches = 3\n",
    "\n",
    "# M and N are basically number of pixels per patch\n",
    "M, N = int(height / num_vertical_patches), int(width / num_horizontal_patches)\n",
    "\n",
    "x1, y1 = 0, 0\n",
    "\n",
    "for y in range(0, height, M):\n",
    "    for x in range(0, width, N):\n",
    "        \n",
    "        y1 = y + M\n",
    "        x1 = x + N\n",
    "        \n",
    "        if x1>=width and y1>=height:\n",
    "            x1 = width-1\n",
    "            y1 = height-1\n",
    "            tile = img[y:height, x:width]\n",
    "            cv.rectangle(img_copy, (x,y), (x1, y1), (0, 255, 0), 1)\n",
    "            cv.imshow('tile', tile)\n",
    "            \n",
    "        elif y1>=height:\n",
    "            y1 = height-1\n",
    "            cv.rectangle(img_copy, (x, y), (x1, y1), (0, 255, 0), 1)\n",
    "            \n",
    "        elif x1>=width:\n",
    "            x1 = width-1\n",
    "            cv.rectangle(img_copy, (x, y), (x1, y1), (0, 255, 0), 1)\n",
    "            \n",
    "        else:\n",
    "            cv.rectangle(img_copy, (x, y), (x1, y1), (0, 255, 0), 1)\n",
    "            \n",
    "cv.imshow('patched image', img_copy)\n",
    "cv.waitKey(0)\n",
    "cv.destroyAllWindows()"
   ]
  },
  {
   "cell_type": "markdown",
   "id": "fea736b7-ef45-4d71-bb84-e8f5635a9fd6",
   "metadata": {},
   "source": [
    "## Exercise\n",
    "1. Divide the image into 4 equal regions. Swap their positions as shown below:\n",
    "\n",
    "   ![dog_swap](img_embed/crop_swap.PNG \"dog\")\n",
    "2. Cover the face of lena with white mask as shown as the following:\n",
    "\n",
    "   ![lena_mask](img_embed/lena_mask.PNG \"lena mask\")\n",
    "\n",
    "3. Extract the region of interest (flower) from the 'flower.jfif'."
   ]
  },
  {
   "cell_type": "code",
   "execution_count": 40,
   "id": "08453ad8",
   "metadata": {},
   "outputs": [],
   "source": [
    "#Q1\n",
    "img = cv.imread('images/dog.jfif')\n",
    "img_copy = img.copy()\n",
    "height, width = img.shape[:2]\n",
    "\n",
    "num_vertical_patches = 2\n",
    "num_horizontal_patches = 2\n",
    "\n",
    "#M and N are basically number of pixels per patch\n",
    "M, N = int(height / num_vertical_patches), int(width / num_horizontal_patches)\n",
    "\n",
    "# extract patches and store them in a list\n",
    "patches = []\n",
    "\n",
    "for y in range(0, height, M):\n",
    "    row_patches = []\n",
    "    for x in range(0, width, N):\n",
    "        x1 = x + N\n",
    "        y1 = y + M\n",
    "        if x1 > width:\n",
    "            x1 = width\n",
    "        if y1 > height:\n",
    "            y1 = height\n",
    "        patch = img[y:y1, x:x1]\n",
    "        row_patches.append(patch)\n",
    "    patches.append(row_patches)\n",
    "    \n",
    "    \n",
    "#rearrange patches (example: swap corners)\n",
    "rearranged_patches = [\n",
    "    [patches[1][1], patches[1][0]],\n",
    "    [patches[0][1], patches[0][0]]\n",
    "]\n",
    "\n",
    "#place rearranged patches back into the image\n",
    "reconstructed_img = np.zeros_like(img)\n",
    "\n",
    "for i, row_patches in enumerate(rearranged_patches):\n",
    "    for j, patch in enumerate(row_patches):\n",
    "        x = j * N\n",
    "        y = i * M\n",
    "        reconstructed_img[y:y + patch.shape[0], x:x + patch.shape[1]] = patch\n",
    "\n",
    "#display the original and reconstructed images\n",
    "cv.imshow('Original Image', img)\n",
    "cv.imshow('Reconstructed Image', reconstructed_img)\n",
    "cv.waitKey(0)\n",
    "cv.destroyAllWindows()\n"
   ]
  },
  {
   "cell_type": "code",
   "execution_count": 44,
   "id": "68ab120a",
   "metadata": {},
   "outputs": [],
   "source": [
    "#Q2\n",
    "img = cv.imread('images/lena.jfif')\n",
    "img_copy = img.copy()\n",
    "height, width,_ = img.shape[:3]\n",
    "\n",
    "num_vertical_patches = 3\n",
    "num_horizontal_patches = 3\n",
    "\n",
    "#M and N are basically number of pixels per patch\n",
    "M, N = int(height / num_vertical_patches), int(width / num_horizontal_patches)\n",
    "\n",
    "#extract patches and store them in a list\n",
    "patches = []\n",
    "\n",
    "for y in range(0, height, M):\n",
    "    row_patches = []\n",
    "    for x in range(0, width, N):\n",
    "        x1 = x + N\n",
    "        y1 = y + M\n",
    "        if x1 > width:\n",
    "            x1 = width\n",
    "        if y1 > height:\n",
    "            y1 = height\n",
    "        patch = img[y:y1, x:x1]\n",
    "        row_patches.append(patch)\n",
    "    patches.append(row_patches)\n",
    "    \n",
    "    \n",
    "#change middle patch to white mask\n",
    "patches[1][1]= np.ones_like(patches[1][1]) * 255\n",
    "\n",
    "#recontsructing white mask\n",
    "rearranged_patches = patches\n",
    "\n",
    "#place rearranged patches back into image\n",
    "reconstructed_img = np.zeros_like(img)\n",
    "\n",
    "for i, row_patches in enumerate(rearranged_patches):\n",
    "    for j, patch in enumerate(row_patches):\n",
    "        x = j * N\n",
    "        y = i * M\n",
    "        reconstructed_img[y:y + patch.shape[0], x:x + patch.shape[1]] = patch\n",
    "\n",
    "#display the original and reconstructed images\n",
    "cv.imshow('Original Image', img)\n",
    "cv.imshow('Reconstructed Image', reconstructed_img)\n",
    "cv.waitKey(0)\n",
    "cv.destroyAllWindows()\n"
   ]
  },
  {
   "cell_type": "code",
   "execution_count": 53,
   "id": "ca14a7a1",
   "metadata": {},
   "outputs": [],
   "source": [
    "#Q3\n",
    "\n",
    "img = cv.imread('images/flower.jfif')\n",
    "\n",
    "r =cv.selectROI(\"roi\", img)\n",
    "\n",
    "#extract coordiantes from ROI selection\n",
    "x, y, w, h = int(r[0]), int(r[1]), int(r[2]), int(r[3])\n",
    "\n",
    "#extract the ROI\n",
    "roi = img[y:y+h, x:x+w]\n",
    "\n",
    "#close the ROI selection window\n",
    "cv.destroyWindow(\"roi\")\n",
    "\n",
    "cv.imshow('Original Image', img)\n",
    "\n",
    "#create a window with the same size as the ROI\n",
    "cv.namedWindow('Extracted ROI', cv.WINDOW_NORMAL)\n",
    "cv.resizeWindow('Extracted ROI', w, h)\n",
    "cv.imshow('Extracted ROI', roi)\n",
    "cv.waitKey(0)\n",
    "cv.destroyAllWindows()\n"
   ]
  },
  {
   "cell_type": "markdown",
   "id": "7e201988-a45e-41a7-80a3-d1d6ad93f1cf",
   "metadata": {},
   "source": [
    "# Color space / color model\n",
    "In the most common color space, RGB (Red Green Blue), colors are represented in terms of their red, green, and blue components. In more technical terms, RGB describes a color as a tuple of 3 components. Each component can take a value between 0 and 255, where the tuple (0, 0, 0) represents black and (255, 255, 255) represents white. RGB is considered an \"additive\" color space, and colors can be imagined as being produced from shining quantities of red, blue and green light onto a black background.\n",
    "\n",
    "There are so many color spaces because different color spaces are useful for different purposes. We will typically work with 3 kinds of color models: blue-green-red (BGR), grayscale and hue-saturation-value (HSV).\n",
    "\n",
    "In reality, color is a continuous phenomenon, meaning that there are an infinite number of colors. Color spaces, however represent color through discrete structures (a fixed number of whole number integer values), which is acceptable since the human eye and perception are also limited. \n",
    "\n",
    "## RGB color space\n",
    "It is an additive colorspace where colors are obtained by a linear combination of Red, Green and Blue values. \n",
    "\n",
    "There are some inherent problems asociated with RGB colorspace:\n",
    "- significant perceptual non-uniformity.\n",
    "- mixing of chrominance and luminance data.\n",
    "\n",
    "## LAB color space\n",
    "3 components:\n",
    "- L: lightness (intensity).\n",
    "- A: color component ranging from green to red.\n",
    "- B: color component ranging from blue to yellow.\n",
    "\n",
    "The L component is independent of color information and encodes brightness only. \n",
    "\n",
    "## YCrCb color space\n",
    "Like LAB colorspace, the luminance and chrominances are separated into different channels. Y is used to represent luminance (or luma), Cb represents blue-difference, and Cr represents red-difference.\n",
    "\n",
    "## HSV color space\n",
    "1. Hue is the color attribute that describes pure color. \n",
    "2. Saturation is the quantity that reflect the degree to which pure color is diluted by white light.\n",
    "3. Value or intensity is brightness.\n",
    "\n",
    "![hsv cylindrical spectrum](img_embed/hsv_cylindrical.jfif \"HSV\")\n",
    "\n",
    "> **Important** 🗝️\n",
    ">\n",
    "> In OpenCV, hue range is $[0,179]$, saturation range is $[0,255]$, and value range is $[0,255]$. Different software use different scales. So if you are comparing OpenCV values with them, you need to **normalize these ranges**. \n",
    "> The important takeaway is: *Lighting condition can mean the difference between success and failure of your computer vision algorithm.* Thus, color space which could factor out luminance into different channel should be the choice."
   ]
  },
  {
   "cell_type": "markdown",
   "id": "b53cebb8",
   "metadata": {},
   "source": [
    "# Color spaces\n",
    "1. RGB\n",
    "2. CIELAB\n",
    "3. HSV (focus of this course)\n",
    "#change the value to see what happen "
   ]
  },
  {
   "cell_type": "code",
   "execution_count": 47,
   "id": "22909c77",
   "metadata": {},
   "outputs": [],
   "source": [
    "#manipute HSV channels\n",
    "img = cv.imread(\"images/car.jpg\")\n",
    "#change BGR to HSV\n",
    "img_hsv= cv.cvtColor(img, cv.COLOR_BGR2HSV)\n",
    "#split the channels\n",
    "h, s, v = cv.split(img_hsv)\n",
    "\n",
    "\n",
    "# set a coonstant for H CHANNEL [0-179]\n",
    "h_bias = 25\n",
    "h_new = np.zeros_like(h) + h_bias\n",
    "h_new = np.uint8(h_new)\n",
    "\n",
    "transform = cv.merge((h_new, s, v))\n",
    "transform_display = cv.cvtColor(transform, cv.COLOR_HSV2BGR)\n",
    "\n",
    "from utils import display_images\n",
    "display_images([img, transform_display], (\"original\", f\"hue={h_bias}\"))"
   ]
  },
  {
   "cell_type": "code",
   "execution_count": 83,
   "id": "67545eaf",
   "metadata": {},
   "outputs": [],
   "source": [
    "#saturation \n",
    "h, s, v = cv.split(img_hsv)\n",
    "\n",
    "# set a constant for s channel [0-255]\n",
    "s_bias =  255\n",
    "s_new = np.zeros_like(s) +s_bias\n",
    "\n",
    "# set a coonstant for H CHANNEL [0-179]\n",
    "s_bias = 25\n",
    "s_new = np.zeros_like(s) + s_bias\n",
    "s_new = np.uint8(s_new)\n",
    "\n",
    "transform = cv.merge((s_new, s, v))\n",
    "transform_display = cv.cvtColor(transform, cv.COLOR_HSV2BGR)\n",
    "\n",
    "from utils import display_images\n",
    "display_images([img, transform_display], (\"original\", f\"hue={s_bias}\"))\n"
   ]
  },
  {
   "cell_type": "markdown",
   "id": "d6a9bc8a-4feb-402e-88b2-20c4d0a89139",
   "metadata": {},
   "source": [
    "## Splitting and merging Image channels\n",
    "The B, G and R channels can be split into their individual planes when needed. Then the individual channels can be merged back together to form BGR image again. The splitting and merging operations can be attained by the following functions respectively:\n",
    "* `cv.split(m)`, where m is a multi-channel array.\n",
    "* `cv.merge(mv)`, where mv is a tuple / list of matrices to be merged; all the matrices in mv must have the same size and the same depth (precision of each pixel)."
   ]
  },
  {
   "cell_type": "code",
   "execution_count": 49,
   "id": "4a0da871-8964-413b-83ba-d47f1d86b660",
   "metadata": {},
   "outputs": [
    {
     "name": "stdout",
     "output_type": "stream",
     "text": [
      "Are the two images the same? True\n"
     ]
    }
   ],
   "source": [
    "b, g, r = cv.split(img)\n",
    "img_merge = cv.merge((b, g, r))\n",
    "\n",
    "print(f\"Are the two images the same? {np.equal(img, img_merge).all()}\")"
   ]
  },
  {
   "cell_type": "markdown",
   "id": "b1625f56-7bd9-40b3-9d48-b6b579bcee5c",
   "metadata": {},
   "source": [
    "## Manipulate image channels\n",
    "\n",
    "### HSV color channels\n",
    "\n",
    "#### Hue channel"
   ]
  },
  {
   "cell_type": "code",
   "execution_count": 84,
   "id": "f4fbfda1-b4a9-4556-a5e1-b3d9ce5af446",
   "metadata": {},
   "outputs": [],
   "source": [
    "# set the hue to a certain value\n",
    "img = cv.imread(\"images/meal.jpg\")\n",
    "img_hsv = cv.cvtColor(img, cv.COLOR_BGR2HSV)\n",
    "\n",
    "h, s, v = cv.split(img_hsv)\n",
    "h_new = np.zeros_like(h) + 30\n",
    "h_new = np.uint8(h_new)\n",
    "\n",
    "transform = cv.merge((h_new, s, v))\n",
    "transform_display = cv.cvtColor(transform, cv.COLOR_HSV2BGR)\n",
    "\n",
    "display_images([img, transform_display], (\"original\", \"hue=30\"))"
   ]
  },
  {
   "cell_type": "code",
   "execution_count": 85,
   "id": "2aba3ce6-74c4-4f0d-a783-84eb91e50268",
   "metadata": {},
   "outputs": [],
   "source": [
    "# change the saturation \n",
    "img = cv.imread(\"images/meal.jpg\")\n",
    "img_hsv = cv.cvtColor(img, cv.COLOR_BGR2HSV)\n",
    "\n",
    "h, s, v = cv.split(img_hsv)\n",
    "s_new = np.zeros_like(s) + 255\n",
    "s_new = np.uint8(s_new)\n",
    "\n",
    "transform = cv.merge((h, s_new, v))\n",
    "transform_display = cv.cvtColor(transform, cv.COLOR_HSV2BGR)\n",
    "\n",
    "display_images([img, transform_display], (\"original\", \"saturation decrease\"))"
   ]
  },
  {
   "cell_type": "markdown",
   "id": "a46bfbe4-83a3-46aa-87d3-3dfd04769708",
   "metadata": {},
   "source": [
    "### Exercise\n",
    "1. Display the blue, green and red channel of the **lena** image simultaneously. Comment on the images displayed.\n",
    "2. Display the following images which originates from the file \"images/dog.jfif\".\n",
    "\n",
    "![exercise_fig](img_embed/diff_color_channels.jpg \"color dogs\")"
   ]
  },
  {
   "cell_type": "code",
   "execution_count": 58,
   "id": "cd39ec9e",
   "metadata": {},
   "outputs": [],
   "source": [
    "#Q1\n",
    "img = cv.imread(\"images/lena.jfif\")\n",
    "img_hsv = cv.cvtColor(img, cv.COLOR_BGR2HSV)\n",
    "\n",
    "h, s, v = cv.split(img_hsv)\n",
    "\n",
    "#ccreate an all-zero array for the other two channels (saturation and value)\n",
    "zeros = np.zeros_like(h)\n",
    "\n",
    "blue_channel_image = cv.merge([h, zeros, zeros])\n",
    "green_channel_image = cv.merge([zeros, s, zeros])\n",
    "red_channel_image = cv.merge([zeros, zeros, v])\n",
    "\n",
    "cv.imshow('Blue Channel', blue_channel_image)\n",
    "cv.imshow('Green Channel', green_channel_image)\n",
    "cv.imshow('Red Channel', red_channel_image)\n",
    "\n",
    "cv.waitKey(0)\n",
    "cv.destroyAllWindows()"
   ]
  },
  {
   "cell_type": "code",
   "execution_count": 71,
   "id": "fa1d1218",
   "metadata": {},
   "outputs": [],
   "source": [
    "#Q2\n",
    "img = cv.imread(\"images/dog.jfif\")\n",
    "img_hsv = cv.cvtColor(img, cv.COLOR_BGR2HSV)\n",
    "\n",
    "h, s, v = cv.split(img_hsv)\n",
    "\n",
    "h_red = np.zeros_like(h) +0\n",
    "h_green = np.zeros_like(h) +60\n",
    "h_blue = np.zeros_like(h) +120\n",
    "\n",
    "h_red = np.uint8(h_red)\n",
    "h_green = np.uint8(h_green)\n",
    "h_blue = np.uint8(h_blue)\n",
    "\n",
    "#merge each hue with the original saturation and value\n",
    "red_hsv = cv.merge((h_red, s, v))\n",
    "green_hsv = cv.merge((h_green, s, v))\n",
    "blue_hsv = cv.merge((h_blue, s, v))\n",
    "\n",
    "#convert HSV images back to BGR\n",
    "red_bgr = cv.cvtColor(red_hsv, cv.COLOR_HSV2BGR)\n",
    "green_bgr = cv.cvtColor(green_hsv, cv.COLOR_HSV2BGR)\n",
    "blue_bgr = cv.cvtColor(blue_hsv, cv.COLOR_HSV2BGR)\n",
    "\n",
    "display_images([red_bgr, green_bgr, blue_bgr], [\"Red Hue\", \"Green Hue\", \"Blue Hue\"])"
   ]
  },
  {
   "cell_type": "markdown",
   "id": "0004d398-06ec-49e1-a937-c4f41e8c2be5",
   "metadata": {},
   "source": [
    "# Point operator \n",
    "\n",
    "## Point operator\n",
    "It is merely mathematical operations on each pixel value of an image. The formula is as follows:\n",
    "$$f(x, y) = \\alpha f(x, y) + \\beta$$"
   ]
  },
  {
   "cell_type": "code",
   "execution_count": 89,
   "id": "f2ace2dc",
   "metadata": {},
   "outputs": [],
   "source": [
    "#Point Operators\n",
    "np.uint8([-1, 0,255, 256,257])\n",
    "\n",
    "#need define own function \n",
    "#to enhance reduce brightness and contrast\n",
    "#because need to clip the (-10 to 300) to (0 to 255) truncate\n",
    "\n",
    "def point_op (img, alpha, beta):\n",
    "    \"\"\"Point operators on image\n",
    "    Arguments:\n",
    "    ---\n",
    "    img: source image (uint8)\n",
    "    alpha, beta: user defined parameters\n",
    "    \n",
    "    Returns:\n",
    "    ---\n",
    "    Linearly transformed uint8 array\n",
    "    ---\n",
    "    \"\"\"\n",
    "    \n",
    "    img = img.astype(np.float32)\n",
    "    res = alpha * img + beta\n",
    "    res = np.clip(res, 0,255)\n",
    "    return np.uint8(res)"
   ]
  },
  {
   "cell_type": "code",
   "execution_count": 90,
   "id": "2d3643c3",
   "metadata": {},
   "outputs": [],
   "source": [
    "# load an image to change its brightness\n",
    "img = cv.imread(\"images/camera.jpg\")\n",
    "\n",
    "alpha = 1.2 # increase contrast (>1), vice versa\n",
    "beta = 30   # increase brightness (>0), vice versa\n",
    "dst = point_op(img, alpha = alpha, beta = beta)\n",
    "\n",
    "display_images([img,dst], (\"original\",\"pixel_transform\"))"
   ]
  },
  {
   "cell_type": "code",
   "execution_count": 91,
   "id": "3a821eb2-450b-4b3c-aa4a-f01632897bbe",
   "metadata": {},
   "outputs": [],
   "source": [
    "# Lets define the point operator function (multiplication, addition, subtraction and division)\n",
    "def point_op(img, alpha, beta):\n",
    "    \"\"\"Point operator function\n",
    "    Argument:\n",
    "    ---\n",
    "    img: input image\n",
    "    alpha: coefficient\n",
    "    beta: bias\n",
    "    \n",
    "    Returns:\n",
    "    ---\n",
    "    Unsigned 8-bit image array\"\"\"\n",
    "    img = img.astype(np.float32)\n",
    "    res = alpha * img + beta\n",
    "    # clip the pixel values \n",
    "    res = np.clip(res, 0, 255)\n",
    "    return np.uint8(res)"
   ]
  },
  {
   "cell_type": "markdown",
   "id": "7c652846-620d-4532-8083-8037cbc1423d",
   "metadata": {},
   "source": [
    "### Enhance the contrast and brighten the image"
   ]
  },
  {
   "cell_type": "code",
   "execution_count": 92,
   "id": "27c9d436-468a-4708-89fb-d5a2c90c0912",
   "metadata": {},
   "outputs": [],
   "source": [
    "gray = cv.imread('images/camera.jpg', 0)\n",
    "transform = point_op(gray, 2, 0)\n",
    "\n",
    "display_images([gray, transform], (\"grayscale\", \"transform\"))"
   ]
  },
  {
   "cell_type": "markdown",
   "id": "f568022f-0c59-4d12-afc8-372c2ff8a90b",
   "metadata": {},
   "source": [
    "### Lower the contrast and darken the image"
   ]
  },
  {
   "cell_type": "code",
   "execution_count": 88,
   "id": "fdf6bbad-80c3-4e0c-a514-08e56e197ecf",
   "metadata": {},
   "outputs": [],
   "source": [
    "transform2 = point_op(gray, 1, -50)\n",
    "\n",
    "display_images([gray, transform2], (\"grayscale\", \"darken\"))"
   ]
  },
  {
   "cell_type": "markdown",
   "id": "192496f1-9be0-4956-a8aa-7cc1e0935779",
   "metadata": {},
   "source": [
    "## Weekly activity\n",
    "1. Create a **random noise color and grayscale** image. You can set your own width and height, but keep the total number of pixels of both images identical.\n",
    "2. Convert the code chunk found under section <a href=\"#Section1\">Divide an image into smaller patches using cropping</a> into a function with the following signature:\n",
    "```python\n",
    "crop_grid(img, num_horizontal_grid, num_vertical_grid, line_color)\n",
    " # img is the source image\n",
    " # num_horizontal_grid and num_vertical_grid are the number of patches along x and y axes.\n",
    " # line_color is the color of the grid line.\n",
    " # The output of the function should be image with grids\n",
    "```\n",
    "3. How would you *change the brightness* of a **color image**? Suggest **two ways** to perform the image processing operations. Implement your methods by providing the example codes. You are free to choose any image.\n",
    "4. Provide at least one common use cases for the following color spaces:\n",
    "    - RGB\n",
    "    - HSV\n",
    "    - CIELAB"
   ]
  },
  {
   "cell_type": "code",
   "execution_count": 74,
   "id": "59ef5805-dc0d-4964-9f8e-4c133a94ed01",
   "metadata": {},
   "outputs": [
    {
     "data": {
      "image/png": "[encoded data removed]",
      "text/plain": [
       "<Figure size 640x480 with 1 Axes>"
      ]
     },
     "metadata": {},
     "output_type": "display_data"
    },
    {
     "data": {
      "image/png": "[encoded data removed]",
      "text/plain": [
       "<Figure size 640x480 with 1 Axes>"
      ]
     },
     "metadata": {},
     "output_type": "display_data"
    }
   ],
   "source": [
    "#Q1\n",
    "\n",
    "random_color = np.random.randint(0, 256, size=(16, 16,3), dtype=np.uint8)\n",
    "\n",
    "plt.imshow(random_color, cmap='gray', vmin=0, vmax=255)\n",
    "plt.title('Random Noise Color Image')  \n",
    "plt.axis('off')\n",
    "plt.show()\n",
    "\n",
    "\n",
    "#grayscale \n",
    "random_gray = np.random.randint(0, 256, size=(16, 16), dtype=np.uint8)\n",
    "plt.imshow(random_gray, cmap= \"gray\", vmin=0, vmax=255)\n",
    "plt.title('Random Noise Grayscale Image')  \n",
    "plt.axis('off')\n",
    "plt.show()\n",
    "\n",
    "\n"
   ]
  },
  {
   "cell_type": "code",
   "execution_count": 9,
   "id": "3d3d1207",
   "metadata": {},
   "outputs": [],
   "source": [
    "#Q2\n",
    "def crop_grid(img, num_horizontal_grid, num_vertical_grid, line_color=(0, 255, 0)):\n",
    "    #make a copy of the original image\n",
    "    img_copy = img.copy()\n",
    "    \n",
    "    #get image dimensions\n",
    "    height, width = img.shape[:2]\n",
    "\n",
    "    #calculate size of each grid patch\n",
    "    M = int(height / num_vertical_grid)\n",
    "    N = int(width / num_horizontal_grid)\n",
    "\n",
    "    # draw grid lines\n",
    "    for i in range(1, num_vertical_grid):\n",
    "        cv.line(img_copy, (0, i * M), (width, i * M), line_color, 1)\n",
    "    for j in range(1, num_horizontal_grid):\n",
    "        cv.line(img_copy, (j * N, 0), (j * N, height), line_color, 1)\n",
    "\n",
    "    return img_copy\n",
    "\n",
    "# Example usage:\n",
    "if __name__ == \"__main__\":\n",
    "    img = cv.imread('images/dog.jfif')\n",
    "\n",
    "    #define number of grid patches\n",
    "    num_vertical_patches = 2\n",
    "    num_horizontal_patches = 2\n",
    "\n",
    "    #apply the crop_grid function\n",
    "    grid_image = crop_grid(img, num_horizontal_patches, num_vertical_patches)\n",
    "\n",
    "    #display the image with grid overlay\n",
    "    cv.imshow('Image with Grid', grid_image)\n",
    "    cv.waitKey(0)\n",
    "    cv.destroyAllWindows()\n"
   ]
  },
  {
   "cell_type": "code",
   "execution_count": 10,
   "id": "f3881a54",
   "metadata": {},
   "outputs": [
    {
     "ename": "NameError",
     "evalue": "name 'point_op' is not defined",
     "output_type": "error",
     "traceback": [
      "\u001b[1;31m---------------------------------------------------------------------------\u001b[0m",
      "\u001b[1;31mNameError\u001b[0m                                 Traceback (most recent call last)",
      "Cell \u001b[1;32mIn[10], line 7\u001b[0m\n\u001b[0;32m      5\u001b[0m alpha \u001b[38;5;241m=\u001b[39m \u001b[38;5;241m1.2\u001b[39m \u001b[38;5;66;03m# increase contrast (>1), vice versa\u001b[39;00m\n\u001b[0;32m      6\u001b[0m beta \u001b[38;5;241m=\u001b[39m \u001b[38;5;241m30\u001b[39m   \u001b[38;5;66;03m# increase brightness (>0), vice versa\u001b[39;00m\n\u001b[1;32m----> 7\u001b[0m dst \u001b[38;5;241m=\u001b[39m \u001b[43mpoint_op\u001b[49m(img, alpha \u001b[38;5;241m=\u001b[39m alpha, beta \u001b[38;5;241m=\u001b[39m beta)\n\u001b[0;32m      9\u001b[0m display_images([img,dst], (\u001b[38;5;124m\"\u001b[39m\u001b[38;5;124moriginal\u001b[39m\u001b[38;5;124m\"\u001b[39m,\u001b[38;5;124m\"\u001b[39m\u001b[38;5;124mpixel_transform\u001b[39m\u001b[38;5;124m\"\u001b[39m))\n",
      "\u001b[1;31mNameError\u001b[0m: name 'point_op' is not defined"
     ]
    }
   ],
   "source": [
    "#Q3\n",
    "#using pixel transform\n",
    "img = cv.imread(\"images/dog.jfif\")\n",
    "\n",
    "alpha = 1.2 # increase contrast (>1), vice versa\n",
    "beta = 30   # increase brightness (>0), vice versa\n",
    "dst = point_op(img, alpha = alpha, beta = beta)\n",
    "\n",
    "display_images([img,dst], (\"original\",\"pixel_transform\"))"
   ]
  },
  {
   "cell_type": "code",
   "execution_count": 11,
   "id": "4a0639ed",
   "metadata": {},
   "outputs": [],
   "source": [
    "#using hsv by adjusting the value\n",
    "def adjust_brightness_hsv(image, value):\n",
    "    \"\"\"\n",
    "    Adjust the brightness of the image using HSV color space.\n",
    "\n",
    "    Parameters:\n",
    "    - image: Input color image (BGR format).\n",
    "    - value: Brightness adjustment value. Positive value increases brightness, negative decreases.\n",
    "\n",
    "    Returns:\n",
    "    - Adjusted image.\n",
    "    \"\"\"\n",
    "    hsv = cv.cvtColor(image, cv.COLOR_BGR2HSV)\n",
    "    h, s, v = cv.split(hsv)\n",
    "    \n",
    "    #adjust the Value channel (brightness)\n",
    "    v = cv.add(v, value)\n",
    "    \n",
    "    # clip the Value channel to [0, 255] range\n",
    "    v = np.clip(v, 0, 255)\n",
    "    \n",
    "  \n",
    "    hsv = cv.merge([h, s, v])\n",
    "    adjusted_img = cv.cvtColor(hsv, cv.COLOR_HSV2BGR)\n",
    "    return adjusted_img\n",
    "\n",
    "if __name__ == \"__main__\":\n",
    "    img = cv.imread('images/dog.jfif')\n",
    "    \n",
    "    #increase value by 50\n",
    "    brighter_img = adjust_brightness_hsv(img, 50)\n",
    "\n",
    "    cv.imshow('Original Image', img)\n",
    "    cv.imshow('Brighter Image (HSV)', brighter_img)\n",
    "    cv.waitKey(0)\n",
    "    cv.destroyAllWindows()\n"
   ]
  },
  {
   "cell_type": "code",
   "execution_count": null,
   "id": "2b53eb10",
   "metadata": {},
   "outputs": [],
   "source": [
    "#Q4\n",
    "#RGB is used in initial CV task since they are used in camera, smartphones and computer monitors.\n",
    "#HSV is used to control color thresholding. Therefore, it can be more dynamic as color can be split based on hues and saturation level. This make it easier to detect color under different brightness\n",
    "#CIELAB convert colors between different devices while maintaining consistency. It is used in printing and textile whereby accuracy and consistency is important. "
   ]
  }
 ],
 "metadata": {
  "kernelspec": {
   "display_name": "Python 3 (ipykernel)",
   "language": "python",
   "name": "python3"
  },
  "language_info": {
   "codemirror_mode": {
    "name": "ipython",
    "version": 3
   },
   "file_extension": ".py",
   "mimetype": "text/x-python",
   "name": "python",
   "nbconvert_exporter": "python",
   "pygments_lexer": "ipython3",
   "version": "3.10.9"
  }
 },
 "nbformat": 4,
 "nbformat_minor": 5
}
